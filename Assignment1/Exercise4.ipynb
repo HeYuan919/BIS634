{
 "cells": [
  {
   "cell_type": "code",
   "execution_count": 1,
   "metadata": {
    "collapsed": true,
    "pycharm": {
     "name": "#%%\n"
    }
   },
   "outputs": [],
   "source": [
    "import xml.etree.ElementTree as ET\n",
    "import pandas as pd\n",
    "tree = ET.parse('desc2022.xml')\n",
    "# print(tree)\n",
    "root = tree.getroot()\n",
    "# test1=root[953]\n",
    "# test1_string=ET.tostring(test1).decode('utf-8')\n",
    "# print(test1_string)"
   ]
  },
  {
   "cell_type": "code",
   "execution_count": 3,
   "outputs": [
    {
     "name": "stdout",
     "output_type": "stream",
     "text": [
      "The DescriptorName found by UI: ['Immune System Diseases']\n"
     ]
    }
   ],
   "source": [
    "'''Find DescriptorName by DescriptorUI'''\n",
    "def find_by_UI(UI):\n",
    "    MeshData=[]\n",
    "    for desc_record in root:\n",
    "        desc_dict={\n",
    "            'desc_UI':desc_record.find('DescriptorUI').text,\n",
    "            'desc_name':desc_record.find('DescriptorName/String').text,\n",
    "        }\n",
    "        MeshData.append(desc_dict)\n",
    "    MeSH_df=pd.DataFrame(MeshData)\n",
    "    # print(MeSH_df)\n",
    "    result=MeSH_df.loc[MeSH_df.desc_UI==UI]\n",
    "    # print(result)\n",
    "    return result.desc_name.values\n",
    "\n",
    "find1=find_by_UI('D007154')\n",
    "print('The DescriptorName found by UI:',find1)"
   ],
   "metadata": {
    "collapsed": false,
    "pycharm": {
     "name": "#%%\n"
    }
   }
  },
  {
   "cell_type": "code",
   "execution_count": 4,
   "outputs": [
    {
     "name": "stdout",
     "output_type": "stream",
     "text": [
      "The DescriptorUI found by DescriptorName: ['D009422']\n"
     ]
    }
   ],
   "source": [
    "'''Find DescriptorUI by DescriptorName'''\n",
    "def find_by_name(name):\n",
    "    MeshData=[]\n",
    "    for desc_record in root:\n",
    "        desc_dict={\n",
    "            'desc_UI':desc_record.find('DescriptorUI').text,\n",
    "            'desc_name':desc_record.find('DescriptorName/String').text\n",
    "        }\n",
    "        MeshData.append(desc_dict)\n",
    "    MeSH_df=pd.DataFrame(MeshData)\n",
    "    result=MeSH_df.loc[MeSH_df.desc_name==name]\n",
    "    # print(result)\n",
    "    return result.desc_UI.values\n",
    "\n",
    "find2=find_by_name('Nervous System Diseases')\n",
    "print('The DescriptorUI found by DescriptorName:',find2)"
   ],
   "metadata": {
    "collapsed": false,
    "pycharm": {
     "name": "#%%\n"
    }
   }
  },
  {
   "cell_type": "code",
   "execution_count": 6,
   "outputs": [
    {
     "name": "stdout",
     "output_type": "stream",
     "text": [
      "Intersection DescriptorNames: {'Lambert-Eaton Myasthenic Syndrome', 'Neuritis, Autoimmune, Experimental', 'Autoimmune Hypophysitis', 'Myelitis, Transverse', 'Demyelinating Autoimmune Diseases, CNS', 'Multiple Sclerosis, Relapsing-Remitting', 'Leukoencephalitis, Acute Hemorrhagic', 'Nervous System Autoimmune Disease, Experimental', 'Stiff-Person Syndrome', 'Mevalonate Kinase Deficiency', 'AIDS Dementia Complex', 'Myasthenia Gravis, Autoimmune, Experimental', 'Ataxia Telangiectasia', 'Anti-N-Methyl-D-Aspartate Receptor Encephalitis', 'Vasculitis, Central Nervous System', 'Multiple Sclerosis', 'Myasthenia Gravis, Neonatal', 'Autoimmune Diseases of the Nervous System', 'Kernicterus', 'Myasthenia Gravis', 'Uveomeningoencephalitic Syndrome', 'AIDS Arteritis, Central Nervous System', 'Polyradiculoneuropathy, Chronic Inflammatory Demyelinating', 'Polyradiculoneuropathy', 'Encephalomyelitis, Autoimmune, Experimental', 'Microscopic Polyangiitis', 'Giant Cell Arteritis', 'Diffuse Cerebral Sclerosis of Schilder', 'Neuromyelitis Optica', 'Lupus Vasculitis, Central Nervous System', 'POEMS Syndrome', 'Miller Fisher Syndrome', 'Multiple Sclerosis, Chronic Progressive', 'Guillain-Barre Syndrome', 'Encephalomyelitis, Acute Disseminated'}\n",
      "Intersection set size is: 35\n"
     ]
    }
   ],
   "source": [
    "'''Find the intersection DescriptorNames of descendants by 2 DescriptorUI'''\n",
    "def find_intersection(UI1,UI2):\n",
    "    Tree_df=[]\n",
    "    for desc_record in root:\n",
    "        if desc_record.find('TreeNumberList') is not None:\n",
    "            desc_dict={\n",
    "                'desc_UI':desc_record.find('DescriptorUI').text,\n",
    "                'desc_name':desc_record.find('DescriptorName/String').text,\n",
    "                'Tree_num':desc_record.findall('TreeNumberList/TreeNumber')\n",
    "            }\n",
    "        else:\n",
    "            desc_dict={\n",
    "                'desc_UI':desc_record.find('DescriptorUI').text,\n",
    "                'desc_name':desc_record.find('DescriptorName/String').text,\n",
    "                'Tree_num':None\n",
    "            }\n",
    "        Tree_df.append(desc_dict)\n",
    "    Tree_df=pd.DataFrame(Tree_df)\n",
    "    UI1_tree=Tree_df[Tree_df['desc_UI']==UI1]['Tree_num'].values[0][0].text\n",
    "    UI2_tree=Tree_df[Tree_df['desc_UI']==UI2]['Tree_num'].values[0][0].text\n",
    "    # print(UI1_tree.text)\n",
    "    # print(UI1_tree[0])\n",
    "    # print(type(UI1_tree))\n",
    "    # print(UI2_tree)\n",
    "    # print(UI1_tree.values[0])\n",
    "    Search1=[]\n",
    "    for index, row in Tree_df.iterrows():\n",
    "        if row['Tree_num']!=None:\n",
    "            for i in range(len(row['Tree_num'])):\n",
    "                if UI1_tree in row['Tree_num'][i].text:\n",
    "                    Search1.append(row)\n",
    "    Search2=[]\n",
    "    for index, row in Tree_df.iterrows():\n",
    "        if row['Tree_num']!=None:\n",
    "            for i in range(len(row['Tree_num'])):\n",
    "                if UI2_tree in row['Tree_num'][i].text:\n",
    "                    Search2.append(row)\n",
    "    name1=[]\n",
    "    for i in range(len(Search1)):\n",
    "        name1.append(Search1[i]['desc_name'])\n",
    "    name1=set(name1)\n",
    "    name2=[]\n",
    "    for i in range(len(Search2)):\n",
    "        name2.append(Search2[i]['desc_name'])\n",
    "    name2=set(name2)\n",
    "    print('Intersection DescriptorNames:',name1&name2)\n",
    "    print('Intersection set size is:',len(name1&name2))\n",
    "\n",
    "find_intersection('D007154','D009422')"
   ],
   "metadata": {
    "collapsed": false,
    "pycharm": {
     "name": "#%%\n"
    }
   }
  }
 ],
 "metadata": {
  "kernelspec": {
   "display_name": "Python 3",
   "language": "python",
   "name": "python3"
  },
  "language_info": {
   "codemirror_mode": {
    "name": "ipython",
    "version": 2
   },
   "file_extension": ".py",
   "mimetype": "text/x-python",
   "name": "python",
   "nbconvert_exporter": "python",
   "pygments_lexer": "ipython2",
   "version": "2.7.6"
  }
 },
 "nbformat": 4,
 "nbformat_minor": 0
}