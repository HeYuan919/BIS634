{
 "cells": [
  {
   "cell_type": "markdown",
   "metadata": {
    "pycharm": {
     "name": "#%% md\n"
    }
   },
   "source": [
    "# Instruction\n",
    "All python libraries used are listed in the first code cell of each Exercise's Jupyter part."
   ]
  },
  {
   "cell_type": "markdown",
   "metadata": {
    "pycharm": {
     "name": "#%% md\n"
    }
   },
   "source": [
    "# Exercise 1"
   ]
  },
  {
   "cell_type": "code",
   "execution_count": 1,
   "metadata": {
    "pycharm": {
     "name": "#%%\n"
    }
   },
   "outputs": [],
   "source": [
    "import random\n",
    "import pandas as pd\n",
    "import numpy as np\n",
    "import matplotlib.pyplot as plt\n",
    "from sklearn.preprocessing import StandardScaler\n",
    "from sklearn.decomposition import PCA\n",
    "from sklearn.model_selection import train_test_split\n",
    "from sklearn.neighbors import KNeighborsClassifier"
   ]
  },
  {
   "cell_type": "markdown",
   "metadata": {
    "pycharm": {
     "name": "#%% md\n"
    }
   },
   "source": [
    "1. Implement a two-dimensional k-nearest neighbors classifier and store data in a quad-tree(14 points).Given a new (x, y) point and a value of k (the number of nearest neighbors to examine), it should be able to identify the most common class within those k nearest neighbors (14 points).\n",
    "\n",
    "Class KNN_2d with method predict() is defined in the below cell to store data in a quad-tree and make classifications of a new input point (x,y)."
   ]
  },
  {
   "cell_type": "code",
   "execution_count": 2,
   "metadata": {
    "pycharm": {
     "name": "#%%\n"
    }
   },
   "outputs": [],
   "source": [
    "random.seed(300)\n",
    "\n",
    "def edist(a,b): #calculate euclidean distance\n",
    "    return ((a[0]-b[0])**2+(a[1]-b[1])**2)**0.5\n",
    "\n",
    "def get_data_in_range(data, bbox):\n",
    "    result = []\n",
    "    for x, y, condition in data:\n",
    "        if bbox['xlo'] <= x <= bbox['xhi'] and bbox['ylo'] <= y <= bbox['yhi']:\n",
    "            result.append([x, y, condition])\n",
    "    return result\n",
    "\n",
    "def quantile(series):\n",
    "    lower_q=np.quantile(series,0.25)\n",
    "    higher_q=np.quantile(series,0.75)\n",
    "    return higher_q-lower_q\n",
    "\n",
    "class QuadTree:\n",
    "\n",
    "    def __init__(self, data, bounding_box=None, max_leaf_data=3):\n",
    "        self.desc=len(data)\n",
    "        self._data = None\n",
    "        self.children = []\n",
    "\n",
    "        if bounding_box is None:\n",
    "            xs, ys, conditions = zip(*data)\n",
    "            self.xlo = min(xs)\n",
    "            self.ylo = min(ys)\n",
    "            self.xhi = max(xs)\n",
    "            self.yhi = max(ys)\n",
    "        else:\n",
    "            self.xlo = bounding_box['xlo']\n",
    "            self.xhi = bounding_box['xhi']\n",
    "            self.ylo = bounding_box['ylo']\n",
    "            self.yhi = bounding_box['yhi']\n",
    "        if len(data) <= max_leaf_data:\n",
    "            self._data = data\n",
    "        else:\n",
    "            xsplit = (self.xlo + self.xhi) / 2\n",
    "            ysplit = (self.ylo + self.yhi) / 2\n",
    "            bbox = [\n",
    "                {'xlo': self.xlo, 'xhi': xsplit, 'ylo': self.ylo, 'yhi': ysplit},\n",
    "                {'xlo': self.xlo, 'xhi': xsplit, 'ylo': ysplit, 'yhi': self.yhi},\n",
    "                {'xlo': xsplit, 'xhi': self.xhi, 'ylo': self.ylo, 'yhi': ysplit},\n",
    "                {'xlo': xsplit, 'xhi': self.xhi, 'ylo': ysplit, 'yhi': self.yhi}\n",
    "            ]\n",
    "            self.children = [\n",
    "                QuadTree(get_data_in_range(data, my_bbox), my_bbox, max_leaf_data)\n",
    "                for my_bbox in bbox\n",
    "            ]\n",
    "\n",
    "    def __repr__(self):\n",
    "        return f'<QuadTree xlo={self.xlo} ylo={self.ylo} xhi={self.xhi} yhi={self.yhi} #desc={self.desc}>'\n",
    "\n",
    "    def contains(self,p):\n",
    "        x,y=p[:2]\n",
    "        if self.xlo <= x <= self.xhi and self.ylo <= y <= self.yhi:\n",
    "            return True\n",
    "        else: return False\n",
    "\n",
    "    def contains_minR(self,p,k):\n",
    "        assert self.contains(p)\n",
    "\n",
    "        for child in self.children:\n",
    "            if child.contains(p):\n",
    "                if child.desc<k:\n",
    "                    return edist((self.xhi,self.yhi),(self.xlo,self.ylo))\n",
    "                elif child.desc==k:\n",
    "                    return edist((child.xhi,child.yhi),(child.xlo,child.ylo))\n",
    "                else:\n",
    "                    return child.contains_minR(p,k)\n",
    "\n",
    "    def _within_distance(self,p,d):\n",
    "        x,y=p[:2]\n",
    "        if self.xlo <= x <= self.xhi:\n",
    "            if self.ylo <= y <= self.yhi:\n",
    "                return True\n",
    "            elif  y > self.yhi:\n",
    "                return  y-self.yhi<d\n",
    "            else:return  self.ylo-y<d\n",
    "        elif x>self.xhi:\n",
    "            if self.ylo <= y <= self.yhi:\n",
    "                return x-self.xhi<d\n",
    "            elif  y > self.yhi:\n",
    "                return  edist((x,y),(self.xhi,self.yhi))<d\n",
    "            else:return  edist((x,y),(self.xhi,self.ylo))<d\n",
    "        else:\n",
    "            if self.ylo <= y <= self.yhi:\n",
    "                return self.xlo-x<d\n",
    "            elif  y > self.yhi:\n",
    "                return  edist((x,y),(self.xlo,self.yhi))<d\n",
    "            else:return  edist((x,y),(self.xlo,self.ylo))<d\n",
    "\n",
    "    def leaves_within_distance(self,p,d,leaves_container):\n",
    "        for child in self.children:\n",
    "            if child._within_distance(p,d):\n",
    "                if not child.children:\n",
    "                    leaves_container+=child._data\n",
    "                else:\n",
    "                    child.leaves_within_distance(p,d,leaves_container)\n",
    "\n",
    "class KNN_2d:\n",
    "    def __init__(self, X,y, k) -> None:\n",
    "        data=np.concatenate([X,y.reshape(X.shape[0],1)],axis=1)\n",
    "        qx0=quantile(X[:,0])\n",
    "        qx1=quantile(X[:,1])\n",
    "        # avoid exceeding bounding_box\n",
    "        self.qTree=QuadTree(data,bounding_box={\n",
    "            'xlo':min(X[:,0])-qx0,'xhi':max(X[:,0])+qx0,\n",
    "            'ylo':min(X[:,1])-qx1,'yhi':max(X[:,1])+qx1\n",
    "        },\n",
    "        max_leaf_data=min(3,k)     # e.g. k=1\n",
    "        )\n",
    "        self.k=k\n",
    "\n",
    "    def _predict(self,p):\n",
    "        leaves_container=[]\n",
    "        R=self.qTree.contains_minR(p,self.k)\n",
    "        self.qTree.leaves_within_distance(p,R,leaves_container)\n",
    "        distances=[edist(p,pp)for pp in leaves_container]\n",
    "        min_i = np.argpartition(distances, self.k)[:self.k]\n",
    "        classes=[leaves_container[i][2] for i in min_i]\n",
    "        return max(classes,key=classes.count)\n",
    "\n",
    "    def predict(self,X):\n",
    "        return [self._predict(p) for p in X]\n"
   ]
  },
  {
   "cell_type": "markdown",
   "metadata": {
    "pycharm": {
     "name": "#%% md\n"
    }
   },
   "source": [
    "2. Normalize the seven quantitative columns to a mean of 0 and standard deviation 1. (3 points)"
   ]
  },
  {
   "cell_type": "code",
   "execution_count": 3,
   "metadata": {
    "pycharm": {
     "name": "#%%\n"
    }
   },
   "outputs": [
    {
     "name": "stdout",
     "output_type": "stream",
     "text": [
      "(3810, 7) (3810,)\n"
     ]
    }
   ],
   "source": [
    "data = pd.read_excel('Rice_Cammeo_Osmancik.xlsx',sheet_name='Rice')\n",
    "y=data['Class'].values\n",
    "X=data.drop('Class', axis=1).values\n",
    "print(X.shape,y.shape)\n",
    "for colum in range(len(X[0])):#Normalize X\n",
    "    value_col=X[:,colum]\n",
    "    X[:,colum] = (value_col - value_col.mean())/value_col.std()"
   ]
  },
  {
   "cell_type": "markdown",
   "metadata": {
    "pycharm": {
     "name": "#%% md\n"
    }
   },
   "source": [
    "3. Plot this PCA on a scatterplot, color-coding by type of rice. (3 points)"
   ]
  },
  {
   "cell_type": "code",
   "execution_count": 13,
   "metadata": {
    "pycharm": {
     "name": "#%%\n"
    }
   },
   "outputs": [
    {
     "name": "stdout",
     "output_type": "stream",
     "text": [
      "[0.65413989 0.21425124]\n"
     ]
    }
   ],
   "source": [
    "from sklearn import decomposition\n",
    "pca = decomposition.PCA(n_components=2)\n",
    "data_reduced = pca.fit_transform(X)\n",
    "pc0 = data_reduced[:, 0]\n",
    "pc1 = data_reduced[:, 1]\n",
    "print(pca.explained_variance_ratio_)"
   ]
  },
  {
   "cell_type": "code",
   "execution_count": 30,
   "metadata": {
    "pycharm": {
     "name": "#%%\n"
    }
   },
   "outputs": [
    {
     "name": "stdout",
     "output_type": "stream",
     "text": [
      "number of points in class Cammeo (1630,)\n",
      "number of points in class Osmancik (2180,)\n"
     ]
    },
    {
     "data": {
      "image/png": "[encoded data removed]",
      "text/plain": [
       "<Figure size 800x600 with 1 Axes>"
      ]
     },
     "metadata": {},
     "output_type": "display_data"
    }
   ],
   "source": [
    "plt.figure(figsize=(8,6))\n",
    "for c in np.unique(y):\n",
    "    i = np.where(np.array(y)==c)\n",
    "    print('number of points in class %s' %c,np.array(pc0)[i].shape)\n",
    "    plt.scatter(np.array(pc0)[i], np.array(pc1)[i], label=c, s=1)\n",
    "plt.xlabel('PC0')\n",
    "plt.ylabel('PC1')\n",
    "plt.title('PC0 vs PC1')\n",
    "plt.legend()\n",
    "plt.savefig('PC0-1.png')\n",
    "plt.show()"
   ]
  },
  {
   "cell_type": "markdown",
   "metadata": {
    "pycharm": {
     "name": "#%% md\n"
    }
   },
   "source": [
    "4. Comment on what the graph suggests about the effeciveness of using k-nearest neighbors on this 2-dimensional reduction of the data to predict the type of rice. (4 points)"
   ]
  },
  {
   "cell_type": "markdown",
   "metadata": {
    "pycharm": {
     "name": "#%% md\n"
    }
   },
   "source": [
    "The graph shows that after 2-dimensional PCA reduction, the two classes' majority points are distributed in two separable ellipses. The border of these two clusters is the graph diagonal. Most of the time KNN works well on classifying point types. But if we use KNN to classify a point on the border of these two clusters (e.g., point(0,0)), it will be confused and give a wrong classification as the two classes are almost evenly distributed around the given point."
   ]
  },
  {
   "cell_type": "markdown",
   "metadata": {
    "pycharm": {
     "name": "#%% md\n"
    }
   },
   "source": [
    "5. Using a reasonable train-test split with your k-nearest neighbors implementation, give the confusion matrix for predicting the type of rice with k=1. (4 points) Repeat for k=5. (4 points)"
   ]
  },
  {
   "cell_type": "code",
   "execution_count": 4,
   "metadata": {
    "pycharm": {
     "name": "#%%\n"
    }
   },
   "outputs": [
    {
     "name": "stdout",
     "output_type": "stream",
     "text": [
      "confusion_matrix of K=1 \n",
      " [[447  71]\n",
      " [ 52 573]]\n"
     ]
    },
    {
     "data": {
      "image/png": "[encoded data removed]",
      "text/plain": [
       "<Figure size 640x480 with 2 Axes>"
      ]
     },
     "metadata": {},
     "output_type": "display_data"
    },
    {
     "name": "stdout",
     "output_type": "stream",
     "text": [
      "confusion_matrix of K=5 \n",
      " [[466  52]\n",
      " [ 47 578]]\n"
     ]
    },
    {
     "data": {
      "image/png": "[encoded data removed]",
      "text/plain": [
       "<Figure size 640x480 with 2 Axes>"
      ]
     },
     "metadata": {},
     "output_type": "display_data"
    }
   ],
   "source": [
    "# Read data\n",
    "y=data['Class'].values\n",
    "X=data.drop('Class', axis=1).values\n",
    "# 70% training set, 30% test set\n",
    "X_train, X_test, y_train, y_test = train_test_split(X, y, test_size=0.3, random_state=42)\n",
    "# Data standardization and PCA reduction\n",
    "STDS = StandardScaler()\n",
    "STDS.fit(X_train)\n",
    "X_train = STDS.transform(X_train)\n",
    "X_test = STDS.transform(X_test)\n",
    "pca = PCA(n_components=2)\n",
    "pca.fit(X_train)\n",
    "X_train=pca.transform(X_train)\n",
    "X_test=pca.transform(X_test)\n",
    "\n",
    "# KNN, K=1\n",
    "clf=KNN_2d(X_train,y_train,1)\n",
    "pred_k1=clf.predict(X_test)\n",
    "from sklearn.metrics import confusion_matrix\n",
    "import seaborn as sns\n",
    "cfs_mat1=confusion_matrix(y_test,pred_k1)\n",
    "print('confusion_matrix of K=1 \\n',cfs_mat1)\n",
    "sns.heatmap(pd.DataFrame(cfs_mat1,index=[item for item in set(y_test)],columns=[item for item in set(y_test)]),annot=True)\n",
    "plt.title('K=1')\n",
    "plt.show()\n",
    "# KNN, K=5\n",
    "clf5=KNN_2d(X_train,y_train,5)\n",
    "pred_k5=clf5.predict(X_test)\n",
    "cfs_mat5=confusion_matrix(y_test,pred_k5)\n",
    "print('confusion_matrix of K=5 \\n',cfs_mat5)\n",
    "sns.heatmap(pd.DataFrame(cfs_mat5,index=[item for item in set(y_test)],columns=[item for item in set(y_test)]),annot=True)\n",
    "plt.title('K=5')\n",
    "plt.show()"
   ]
  },
  {
   "cell_type": "markdown",
   "metadata": {
    "pycharm": {
     "name": "#%% md\n"
    }
   },
   "source": [
    "6. Provide a brief interpretation of what the confusion matrix results mean. (4 points)"
   ]
  },
  {
   "cell_type": "markdown",
   "metadata": {
    "pycharm": {
     "name": "#%% md\n"
    }
   },
   "source": [
    "The diagonal from top left to bottom right is the number of correct predictions. Row of the matrix is the true label and Column of the matrix is the predicted label.\n",
    "Take k=1's confusion matrix $\\begin{bmatrix} 447 & 71 \\\\ 52 & 573 \\end{bmatrix}$for example.\n",
    "There are 447 points in the test set are correctly classified to be Osmancik type and 71 points are misclassified to be Cammeo type. Similarly, as for the second row in the matrix, 573 points are correctly classified to be Cammeo type and 52 points are misclassified to be Osmancik type.\n",
    "The accuracy of KNN(k=1) is $\\frac{447+573}{447+71+52+573}=89.23\\% $\n",
    "\n",
    "The accuracy of KNN(k=5) is $\\frac{466+578}{466+52+47+578}=91.34\\%$\n",
    "\n",
    "The calculation of Precision, Recall and F1-score is similar to Accuracy calculation."
   ]
  },
  {
   "cell_type": "code",
   "execution_count": 48,
   "metadata": {
    "pycharm": {
     "name": "#%%\n"
    }
   },
   "outputs": [
    {
     "name": "stdout",
     "output_type": "stream",
     "text": [
      "True\n",
      "True\n"
     ]
    }
   ],
   "source": [
    "# Test KNN_2d with sklearn's KNN\n",
    "clf_=KNeighborsClassifier(1)\n",
    "clf_.fit(X_train,y_train)\n",
    "print(np.all(clf_.predict(X_test)==clf.predict(X_test)))\n",
    "# If True, it means my KNN_2d's performance is the same with sklearn's KNN\n",
    "clf_5=KNeighborsClassifier(5)\n",
    "clf_5.fit(X_train,y_train)\n",
    "print(np.all(clf_5.predict(X_test)==clf5.predict(X_test)))"
   ]
  },
  {
   "cell_type": "code",
   "execution_count": 5,
   "metadata": {
    "pycharm": {
     "name": "#%%\n"
    }
   },
   "outputs": [
    {
     "name": "stdout",
     "output_type": "stream",
     "text": [
      "<QuadTree xlo=-8.854877614426485 ylo=-6.44399225253545 xhi=9.793868289701859 yhi=7.227520492611047 #desc=2667>\n"
     ]
    }
   ],
   "source": [
    "print(clf.qTree) # There are 3810 points with 70% in the training set, which is 3810*0.7=2667, corresponding to the desc number"
   ]
  },
  {
   "cell_type": "markdown",
   "metadata": {
    "pycharm": {
     "name": "#%% md\n"
    }
   },
   "source": [
    "# Exercise 2"
   ]
  },
  {
   "cell_type": "markdown",
   "metadata": {
    "pycharm": {
     "name": "#%% md\n"
    }
   },
   "source": [
    "1. What's your data? (4 points)\n",
    "\n",
    "My data is Heart failure clinical records Data Set downloaded from UCI Machine Learning Repository. The link is https://archive.ics.uci.edu/ml/datasets/Heart+failure+clinical+records#\n",
    "\n",
    "It contains 299 subjects' clinical data with 13 attributes, such as age, anaemia, high blood pressure, diabetes, sex, smoking and so on. The predictable target label is 'death event', indicating whether the patient died in the follow-up period."
   ]
  },
  {
   "cell_type": "markdown",
   "metadata": {
    "pycharm": {
     "name": "#%% md\n"
    }
   },
   "source": [
    "2. What analyses do you want to run and why are they interesting?(4 points)\n",
    "\n",
    "First I want to do some statistical analyses about the sample distribution, attribute correlations to find whether it is representative and balanced. Then I want to train machine learning models to predict the death rate of a new given input sample. This is the interesting point as users can input any attribute values they want to simulate a virtual patient and get a model's death possibility prediction."
   ]
  },
  {
   "cell_type": "markdown",
   "metadata": {
    "pycharm": {
     "name": "#%% md\n"
    }
   },
   "source": [
    "3.  Which ones will be interactive, where the user can provide a parameter? (4 points; there must be at least one).\n",
    "\n",
    "Users can input several attributes' values such as age(numeric), sex(binary), have diebetes and anaemia or not to give the model's output prediction.\n",
    "\n",
    "4. What graphs will you make? (4 points)\n",
    "\n",
    "I'll make several attribute distribution histograms and pie charts to show the dataset distribution, such as samples' age distribution. Also, I'll make a histogram with predicted death possibility on the test set and compare the average death possibility with that from the user's input.\n",
    "\n",
    "5. Describe how you want your website to work. (4 points)\n",
    "\n",
    "I'll make a website with one homepage and one interaction page.\n",
    "On the homepage, I'll display some graphs showing the attribute distribution of our dataset. There is a button to go to the interaction page where users can input several attribute values and get a death possibility back from the trained machine learning model.\n",
    "\n",
    "6. What do you see as your biggest challenge to completing this, and how do you expect to overcome this challenge? (5 points)\n",
    "\n",
    "First challenge is the performance of my model. Then the biggest challenge is to reload the trained model to interact with the website's user input and give output predictions to the user interface and present it in a good way. I plan to overcome these challenges by training several kinds of models (SVM, logistic regression, random forest...) and then select one model that performs best (i.e., with the highest accuracy). Then test the website interaction to make sure the code can successfully get users' input, reload the trained model, feed input into the model, and post the predicted output on the website timely.\n"
   ]
  },
  {
   "cell_type": "markdown",
   "metadata": {
    "pycharm": {
     "name": "#%% md\n"
    }
   },
   "source": [
    "# Exercise 3"
   ]
  },
  {
   "cell_type": "code",
   "execution_count": 1,
   "metadata": {
    "pycharm": {
     "name": "#%%\n"
    }
   },
   "outputs": [],
   "source": [
    "import pandas as pd\n",
    "import numpy as np\n",
    "from flask import Flask, render_template, request\n",
    "import json\n",
    "import plotly.express as px"
   ]
  },
  {
   "cell_type": "markdown",
   "metadata": {
    "pycharm": {
     "name": "#%% md\n"
    }
   },
   "source": [
    "1. Perform any necessary data cleaning (e.g. you'll probably want to get rid of the numbers in e.g. \"Connecticut(7)\" which refer to data source information as well as remove lines that aren't part of the table). Include the cleaned CSV file in your homework submission, and make sure your readme includes a citation of where the original data came from and how you changed the csv file. (5 points)\n",
    "\n",
    "Data downloaded from https://statecancerprofiles.cancer.gov/incidencerates/index.php is cleaned by the following code.\n",
    "First, I manually removed irrelevant lines to only keep the table. The table shape is (53,13).\n",
    "Then I removed the 4 rows with obvious N/A, 'data not available' and '*' cells. The new table shape is (49,13) and the new file is named as 'incd_new.csv' for further cleaning as below.\n",
    "In the following code cell, I drop all numbers in state names' parentheses and changed a column name from 'Age-Adjusted Incidence Rate([rate note]) - cases per 100,000' to 'Age-Adjusted Incidence Rate' to make it shorter."
   ]
  },
  {
   "cell_type": "code",
   "execution_count": 14,
   "metadata": {
    "pycharm": {
     "name": "#%%\n"
    }
   },
   "outputs": [
    {
     "name": "stdout",
     "output_type": "stream",
     "text": [
      "(49, 13)\n",
      "0         Kentucky\n",
      "1             Iowa\n",
      "2       New Jersey\n",
      "3    West Virginia\n",
      "4         New York\n",
      "Name: State, dtype: object\n"
     ]
    }
   ],
   "source": [
    "raw_data=pd.read_csv('incd_new.csv')\n",
    "print(raw_data.shape)\n",
    "# drop out all numbers in () parentheses\n",
    "raw_name=raw_data['State'].str.split('(').tolist()\n",
    "new_name=np.array(raw_name)\n",
    "raw_data['State']=new_name[:,0]\n",
    "print(raw_data['State'].head())\n",
    "# Rename the column to make it shorter\n",
    "raw_data=raw_data.rename(columns={'Age-Adjusted Incidence Rate([rate note]) - cases per 100,000':'Age-Adjusted Incidence Rate'})\n",
    "raw_data.to_csv('incd_clean.csv',index=None)"
   ]
  },
  {
   "cell_type": "markdown",
   "metadata": {
    "pycharm": {
     "name": "#%% md\n"
    }
   },
   "source": [
    "2. Using Flask, implement a server that provides three routes (5 points each)@app.route(\"/\"), @app.route(\"/state/<string:name>\"), @app.route(\"/info\", methods=[\"GET\"])\n",
    "\n",
    "This is the homepage(route'/') screenshot:\n",
    "![jupyter](./homepageflask.PNG)\n",
    "\n",
    "I stored several common valid names of states in state_name_map.json. For example, Connecticut can be input in other ways such as CT, Conn., ct, connecticut. Other lines in the json file look like: \"District of Columbia\": [\"DC\", \"D.C.\", \"dc\", \"washington, d.c.\", \"district of columbia\"],\"Florida\": [\"FL\", \"Fla.\", \"fl\", \"florida\"]. Capitalization and period matter. All other unusual names not in the json file are considered as invalid names.\n",
    "\n",
    "This is the /info page screenshot with input 'CT':\n",
    "\n",
    "![jupyter](./infopage.PNG)\n",
    "\n",
    "\n",
    "This is the /info page screenshot with an invalid input 'ConNECTICut':\n",
    "\n",
    "![jupyter](./invalidpage.PNG)"
   ]
  },
  {
   "cell_type": "markdown",
   "metadata": {
    "pycharm": {
     "name": "#%% md\n"
    }
   },
   "source": [
    "3.  Take this exercise one step beyond that which is described above in a way that you think is appropriate, and discuss your extension in your readme. (5 points).\n",
    "\n",
    "Extension:\n",
    "I add a route @app.route('/map') to show a map about age-adjusted incidence rate by state using plotly.express\n",
    "The map looks like:\n",
    "\n",
    "![jupyter](./plotlymap.PNG)"
   ]
  },
  {
   "cell_type": "code",
   "execution_count": 2,
   "metadata": {
    "pycharm": {
     "name": "#%%\n"
    }
   },
   "outputs": [
    {
     "name": "stdout",
     "output_type": "stream",
     "text": [
      " * Serving Flask app '__main__' (lazy loading)\n",
      " * Environment: production\n",
      "\u001B[31m   WARNING: This is a development server. Do not use it in a production deployment.\u001B[0m\n",
      "\u001B[2m   Use a production WSGI server instead.\u001B[0m\n",
      " * Debug mode: off\n"
     ]
    },
    {
     "name": "stderr",
     "output_type": "stream",
     "text": [
      "WARNING: This is a development server. Do not use it in a production deployment. Use a production WSGI server instead.\n",
      " * Running on http://127.0.0.1:5000\n",
      "Press CTRL+C to quit\n",
      "127.0.0.1 - - [09/Dec/2022 20:48:15] \"GET / HTTP/1.1\" 200 -\n",
      "127.0.0.1 - - [09/Dec/2022 20:51:48] \"GET /info?state=CT HTTP/1.1\" 200 -\n",
      "127.0.0.1 - - [09/Dec/2022 20:53:13] \"GET / HTTP/1.1\" 200 -\n",
      "127.0.0.1 - - [09/Dec/2022 20:53:15] \"GET /info?state=ConNECTICut HTTP/1.1\" 200 -\n",
      "127.0.0.1 - - [09/Dec/2022 20:54:28] \"GET / HTTP/1.1\" 200 -\n",
      "127.0.0.1 - - [09/Dec/2022 20:54:29] \"GET /map HTTP/1.1\" 200 -\n"
     ]
    }
   ],
   "source": [
    "state_data=pd.read_csv('incd_clean.csv')\n",
    "state_data['Age-Adjusted Incidence Rate'].astype(float)\n",
    "\n",
    "# Read a json file containing states' different names\n",
    "with open('state_name_map.json', 'r') as f:\n",
    "    state_map_json = f.read()\n",
    "state_name_map = json.loads(state_map_json)\n",
    "\n",
    "app = Flask(__name__)\n",
    "\n",
    "@app.route(\"/\")\n",
    "def index():\n",
    "    return render_template(\"index.html\")\n",
    "\n",
    "@app.route(\"/state/<string:name>\")\n",
    "def state(name):\n",
    "    try:\n",
    "        rate=state_data.loc[state_data['State'] == name,'Age-Adjusted Incidence Rate'].values[0]\n",
    "        ci_rank=state_data.loc[state_data['State'] == name,'CI*Rank([rank note])'].values[0]\n",
    "        count=state_data.loc[state_data['State'] == name,'Average Annual Count'].values[0]\n",
    "    except:pass\n",
    "    if rate:\n",
    "        response = {\n",
    "            'state': name,\n",
    "            'age-adjusted rate': rate,\n",
    "            'CI*rank':ci_rank,\n",
    "            'annual count':count\n",
    "        }\n",
    "        return json.dumps(response)\n",
    "    else:\n",
    "        return 'Invalid state name', 404\n",
    "\n",
    "@app.route(\"/info\", methods=[\"GET\"])\n",
    "def info():\n",
    "    state = request.args.get('state')\n",
    "    # If the input state name is valid (as defined in the aforementioned json file) and in our dataset\n",
    "    for name, info in state_name_map.items():\n",
    "        if state in info or state==name:\n",
    "            return render_template('state_info.html', state=name,\n",
    "            rate=state_data.loc[state_data['State'] == name,'Age-Adjusted Incidence Rate'].values[0],\n",
    "            ci_rank=state_data.loc[state_data['State'] == name,'CI*Rank([rank note])'].values[0],\n",
    "            count=state_data.loc[state_data['State'] == name,'Average Annual Count'].values[0]\n",
    "            )\n",
    "    # Else, the input is an invalid name\n",
    "    return render_template('state_info.html')\n",
    "\n",
    "\n",
    "@app.route('/map')\n",
    "def show_map():\n",
    "    # Read state name and incidence rate data\n",
    "    state_data['code']=None\n",
    "    for i in state_data['State'][1:]:\n",
    "        state_data.loc[state_data['State'] == i,'code']=state_name_map[i][0]\n",
    "    fig = px.choropleth(state_data,\n",
    "                    locations='code',\n",
    "                    locationmode='USA-states',\n",
    "                    color='Age-Adjusted Incidence Rate',\n",
    "                    title='Age-Adjusted Incidence Rate by State',\n",
    "                    color_continuous_scale=px.colors.sequential.Plasma,\n",
    "                    scope='usa',\n",
    "                    )\n",
    "    figure_json = fig.to_json()\n",
    "    return render_template('map.html', figure_json=figure_json)\n",
    "\n",
    "if __name__ == \"__main__\":\n",
    "    app.run()"
   ]
  },
  {
   "cell_type": "markdown",
   "metadata": {
    "pycharm": {
     "name": "#%% md\n"
    }
   },
   "source": [
    "# Appendix\n",
    "## Here are the templates' file.html"
   ]
  },
  {
   "cell_type": "markdown",
   "metadata": {
    "pycharm": {
     "name": "#%% md\n"
    }
   },
   "source": [
    "1. index.html\n",
    "\n",
    "![jupyter](./indexhtml.PNG)\n",
    "\n",
    "2. state_info.html\n",
    "\n",
    "![jupyter](./stateinfohtml.PNG)\n",
    "\n",
    "3. map.html\n",
    "\n",
    "![jupyter](./maphtml.PNG)"
   ]
  }
 ],
 "metadata": {
  "kernelspec": {
   "display_name": "Python 3 (ipykernel)",
   "language": "python",
   "name": "python3"
  },
  "language_info": {
   "codemirror_mode": {
    "name": "ipython",
    "version": 3
   },
   "file_extension": ".py",
   "mimetype": "text/x-python",
   "name": "python",
   "nbconvert_exporter": "python",
   "pygments_lexer": "ipython3",
   "version": "3.8.13"
  }
 },
 "nbformat": 4,
 "nbformat_minor": 1
}