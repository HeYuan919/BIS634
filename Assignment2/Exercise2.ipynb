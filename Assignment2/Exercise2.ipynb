{
 "cells": [
  {
   "cell_type": "code",
   "execution_count": 1,
   "metadata": {
    "collapsed": true,
    "pycharm": {
     "name": "#%%\n"
    }
   },
   "outputs": [],
   "source": [
    "from bitarray import bitarray\n",
    "from hashlib import sha3_256,sha256, blake2b\n",
    "from string import ascii_letters,ascii_lowercase\n",
    "import matplotlib.pyplot as plt\n",
    "import numpy as np\n",
    "import json\n",
    "\n",
    "class bloom_filter:\n",
    "    '''\n",
    "    initialization: input bloom filter size and the number of hash functions.\n",
    "    add():insert words in the filter\n",
    "    check():determine whether the word is in the filter\n",
    "    '''\n",
    "    def __init__(self,size,hash_k=3) -> None:\n",
    "        self.size=int(size)\n",
    "        self.hash_k=int(hash_k)\n",
    "        self.__data=bitarray(self.size)\n",
    "        self.__hash_list=[self.__my_hash1,self.__my_hash2,self.__my_hash3][:self.hash_k]\n",
    "\n",
    "        self.__data.setall(0)\n",
    "\n",
    "    def __my_hash1(self,s):\n",
    "        return int( sha256(s. lower() .encode()). hexdigest(), 16) % self.size\n",
    "    def __my_hash2(self,s):\n",
    "        return int( blake2b(s. lower() .encode()). hexdigest(), 16) % self.size\n",
    "    def __my_hash3(self,s):\n",
    "        return int( sha3_256(s. lower() .encode()). hexdigest(), 16) % self.size\n",
    "\n",
    "    def add(self,word):\n",
    "        p=[hash_func(word) for hash_func in self.__hash_list]\n",
    "        for i in p:\n",
    "            self.__data[i]=1\n",
    "\n",
    "    def check(self,word):\n",
    "        p=[hash_func(word) for hash_func in self.__hash_list]\n",
    "        in_bf=0\n",
    "        for i in p:\n",
    "            if self.__data[i]==1:\n",
    "                in_bf+=1\n",
    "        if in_bf==self.hash_k:\n",
    "            return True\n",
    "        else:\n",
    "            return False\n",
    "\n",
    "    def show(self):\n",
    "        print(self.__data)"
   ]
  },
  {
   "cell_type": "code",
   "execution_count": 15,
   "outputs": [
    {
     "name": "stdout",
     "output_type": "stream",
     "text": [
      "True\n",
      "True\n",
      "True\n",
      "True\n",
      "False\n"
     ]
    }
   ],
   "source": [
    "size=1e7\n",
    "hash_k=3\n",
    "bf3=bloom_filter(size,hash_k)\n",
    "with open(r'words.txt') as f:\n",
    "    for line in f:\n",
    "        word=line.strip()\n",
    "        bf3.add(word)\n",
    "inword=['2','1080','&c','10-point'] #This is the top4 words in the words.txt\n",
    "for item in inword:\n",
    "    print(bf3.check(item))\n",
    "#This is my name and it is not in the words.txt\n",
    "print(bf3.check('Heyuan'))"
   ],
   "metadata": {
    "collapsed": false,
    "pycharm": {
     "name": "#%%\n"
    }
   }
  },
  {
   "cell_type": "code",
   "execution_count": 2,
   "outputs": [],
   "source": [
    "def spelling_correction(bf,word):\n",
    "    '''return word suggestions'''\n",
    "    words_possible=[]\n",
    "    if bf.check(word):\n",
    "        words_possible.append(word)\n",
    "    for letter in range(len(word)):\n",
    "        front=word[:letter]\n",
    "        later=word[letter+1:]\n",
    "        words_substitu=[f'{front}{i}{later}' for i in ascii_lowercase.replace(word[letter],'')]\n",
    "        for w in words_substitu:\n",
    "            if bf.check(w):\n",
    "                words_possible.append(w)\n",
    "    return words_possible"
   ],
   "metadata": {
    "collapsed": false,
    "pycharm": {
     "name": "#%%\n"
    }
   }
  },
  {
   "cell_type": "code",
   "execution_count": 23,
   "outputs": [
    {
     "name": "stdout",
     "output_type": "stream",
     "text": [
      "Whether the filter contains floeer: False\n",
      "suggestions using the first hash function:\n",
      "['bloeer', 'qloeer', 'fyoeer', 'flofer', 'floter', 'flower', 'floeqr', 'floees']\n",
      "Whether the filter contains floeer: False\n",
      "suggestions using the first and second hash function:\n",
      "['fyoeer', 'floter', 'flower']\n",
      "Whether the filter contains floeer: False\n",
      "suggestions using the all hash function:\n",
      "['floter', 'flower']\n"
     ]
    }
   ],
   "source": [
    "for hash_k in [1,2,3]:\n",
    "    bf=bloom_filter(size,hash_k)\n",
    "    with open(r'words.txt') as f:\n",
    "        for line in f:\n",
    "            word=line.strip()\n",
    "            bf.add(word)\n",
    "    print('Whether the filter contains floeer:',bf.check('floeer'))\n",
    "    print('suggestions using the %s hash function:'%['first','first and second','all'][hash_k-1])\n",
    "    words_possible=spelling_correction(bf,'floeer')\n",
    "    print(words_possible)"
   ],
   "metadata": {
    "collapsed": false,
    "pycharm": {
     "name": "#%%\n"
    }
   }
  },
  {
   "cell_type": "code",
   "execution_count": 16,
   "outputs": [
    {
     "name": "stdout",
     "output_type": "stream",
     "text": [
      "0.33\n"
     ]
    }
   ],
   "source": [
    "with open(r'typos.json') as f:\n",
    "    data=json.loads(f.read())\n",
    "bf=bloom_filter(1e7,1)\n",
    "with open(r'words.txt') as f:\n",
    "    for line in f:\n",
    "        word=line.strip()\n",
    "        bf.add(word)\n",
    "\n",
    "good_suggestion=0\n",
    "misidentified=0\n",
    "for pair in data:\n",
    "    suggest_words=spelling_correction(bf,pair[0])\n",
    "    if pair[1] in suggest_words:\n",
    "        misidentified+=(1-1/len(suggest_words))\n",
    "        if len(suggest_words)<4:\n",
    "            good_suggestion+=1\n",
    "    # break\n",
    "\n",
    "good_rate=good_suggestion/len(data)\n",
    "print('good_rate',good_rate*100)\n",
    "mis_rate=misidentified/len(data)\n",
    "print('mis_rate',mis_rate*100)\n"
   ],
   "metadata": {
    "collapsed": false,
    "pycharm": {
     "name": "#%%\n"
    }
   }
  },
  {
   "cell_type": "markdown",
   "source": [
    "k=3\n",
    "n=[1e2,1e3,1e4,1e5, 1e6,1e7,1e8,1e9,1e10]\n",
    "good_rate=[0.0,0.0,0.0,0.0,0.0,84.538,88.966,88.966,88.966]\n",
    "[n=1e2,rate=0.0;n=1e3,rate=0.0 ;n=1e4, rate=0.0 ;n=1e5, rate=0.0 ; n=1e6, rate=0.0 ; n=1e7,rate=84.538;n=1e8,rate=88.966; n=1e9,rate=88.966; n= 1e10,rate=88.966]\n",
    "\n",
    "k=2\n",
    "n=[1e2,1e3,1e4,1e5, 1e6,1e7,1e8,1e9,1e10]\n",
    "good_rate=[0.0, 0.0, 0.0, 0.0, 0.0 ,54.732,88.884,88.964,88.966]\n",
    "[n=1e2,rate=0.0;n=1e3,rate=0.0 ;n=1e4, rate=0.0 ;n=1e5, rate=0.0 ; n=1e6, rate=0.0 ; n=1e7,rate=54.732 ;n=1e8,rate=88.884; n=1e9,rate=88.964; n= 1e10,rate=88.966]\n",
    "\n",
    "k=1\n",
    "n=[1e2,1e3,1e4,1e5, 1e6,1e7,1e8,1e9,1e10]\n",
    "good_rate=[0.0, 0.0, 0.0, 0.0, 0.0 ,0.33,73.412,88.408,88.91]\n",
    "[n=1e2,rate=0.0;n=1e3,rate=0.0 ;n=1e4, rate=0.0 ;n=1e5, rate=0.0 ; n=1e6, rate=0.0 ; n=1e7,rate=0.33 ;n=1e8,rate=73.412; n=1e9,rate=88.408; n= 1e10,rate=88.91]"
   ],
   "metadata": {
    "collapsed": false,
    "pycharm": {
     "name": "#%% md\n"
    }
   }
  },
  {
   "cell_type": "code",
   "execution_count": 28,
   "outputs": [
    {
     "data": {
      "text/plain": "<Figure size 1080x360 with 1 Axes>",
      "image/png": "[encoded data removed]"
     },
     "metadata": {
      "needs_background": "light"
     },
     "output_type": "display_data"
    }
   ],
   "source": [
    "n=[1e2,1e3,1e4,1e5, 1e6,1e7,1e8,1e9,1e10]\n",
    "good_rate3=[0.0,0.0,0.0,0.0,0.0,84.538,88.966,88.966,88.966]\n",
    "good_rate2=[0.0, 0.0, 0.0, 0.0, 0.0 ,54.732,88.884,88.964,88.966]\n",
    "good_rate1=[0.0, 0.0, 0.0, 0.0, 0.0 ,0.33,73.412,88.408,88.91]\n",
    "plt.figure(figsize=(15,5))\n",
    "plt.axes(xscale='log')\n",
    "plt.xlabel('size of Bloom Filter',fontsize=20)\n",
    "plt.ylabel('percentage',fontsize=20)\n",
    "plt.plot(n, good_rate3, label='3 hash func')\n",
    "plt.plot(n, good_rate2,label='2 hash func')\n",
    "plt.plot(n, good_rate1,label='1 hash func')\n",
    "plt.title('good suggestion rate',fontsize=20)\n",
    "plt.legend()\n",
    "plt.savefig('bloomsize.jpg')\n",
    "plt.show()"
   ],
   "metadata": {
    "collapsed": false,
    "pycharm": {
     "name": "#%%\n"
    }
   }
  },
  {
   "cell_type": "code",
   "execution_count": null,
   "outputs": [],
   "source": [
    "'''plot good_rate and mis_rate in one plot'''\n",
    "with open(r'typos.json') as f:\n",
    "    data=json.loads(f.read())\n",
    "\n",
    "N=np.logspace(2,10,9)\n",
    "plt.axes(xscale='log')\n",
    "plt.xlabel('size of Bloom Filter')\n",
    "plt.ylabel('percentage')\n",
    "good_rate_N_k=[]\n",
    "for hash_k in [1,2,3]:\n",
    "    good_rate_N=[]\n",
    "    mis_rate_N=[]\n",
    "    for size in N:\n",
    "        bf=bloom_filter(size,hash_k)\n",
    "        with open(r'words.txt') as f:\n",
    "            for line in f:\n",
    "                word=line.strip()\n",
    "                bf.add(word)\n",
    "        good_suggestion=0\n",
    "        misidentified=0\n",
    "        for pair in data:\n",
    "            suggest_words=spelling_correction(bf,pair[0])\n",
    "            if pair[1] in suggest_words:\n",
    "                misidentified+=(1-1/len(suggest_words))\n",
    "                if len(suggest_words)<4:\n",
    "                    good_suggestion+=1\n",
    "            # break\n",
    "        good_rate=good_suggestion/len(data)\n",
    "        mis_rate=misidentified/len(data)\n",
    "        good_rate_N.append(good_rate*100)\n",
    "        mis_rate_N.append(mis_rate*100)\n",
    "    plt.plot(N, good_rate_N, label='%d hashes good'%hash_k)\n",
    "    plt.plot(N, mis_rate_N,label='%d hashes misidentified'%hash_k)\n",
    "    good_rate_N_k.append(good_rate_N)\n",
    "plt.legend()\n",
    "plt.savefig('bloomsize_good_mis.jpg')\n",
    "plt.show()\n",
    "# print(good_rate_N_k)\n",
    "# print(mis_rate_N)"
   ],
   "metadata": {
    "collapsed": false,
    "pycharm": {
     "name": "#%%\n"
    }
   }
  }
 ],
 "metadata": {
  "kernelspec": {
   "display_name": "Python 3",
   "language": "python",
   "name": "python3"
  },
  "language_info": {
   "codemirror_mode": {
    "name": "ipython",
    "version": 2
   },
   "file_extension": ".py",
   "mimetype": "text/x-python",
   "name": "python",
   "nbconvert_exporter": "python",
   "pygments_lexer": "ipython2",
   "version": "2.7.6"
  }
 },
 "nbformat": 4,
 "nbformat_minor": 0
}