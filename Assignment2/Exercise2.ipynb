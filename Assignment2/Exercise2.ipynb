{
 "cells": [
  {
   "cell_type": "code",
   "execution_count": 6,
   "metadata": {
    "collapsed": true,
    "pycharm": {
     "name": "#%%\n"
    }
   },
   "outputs": [],
   "source": [
    "from bitarray import bitarray\n",
    "from hashlib import sha3_256,sha256, blake2b\n",
    "from string import ascii_letters,ascii_lowercase\n",
    "import matplotlib.pyplot as plt\n",
    "import numpy as np\n",
    "import json\n",
    "\n",
    "class bloom_filter:\n",
    "    '''\n",
    "    initialization: input bloom filter size and the number of hash functions.\n",
    "    add():insert words in the filter\n",
    "    check():determine whether the word is in the filter\n",
    "    '''\n",
    "    def __init__(self,size,hash_k=3) -> None:\n",
    "        self.size=int(size)\n",
    "        self.hash_k=int(hash_k)\n",
    "        self.__data=bitarray(self.size)\n",
    "        self.__hash_list=[self.__my_hash1,self.__my_hash2,self.__my_hash3][:self.hash_k]\n",
    "\n",
    "        self.__data.setall(0)\n",
    "\n",
    "    def __my_hash1(self,s):\n",
    "        return int( sha256(s. lower() .encode()). hexdigest(), 16) % self.size\n",
    "    def __my_hash2(self,s):\n",
    "        return int( blake2b(s. lower() .encode()). hexdigest(), 16) % self.size\n",
    "    def __my_hash3(self,s):\n",
    "        return int( sha3_256(s. lower() .encode()). hexdigest(), 16) % self.size\n",
    "\n",
    "    def add(self,word):\n",
    "        p=[hash_func(word) for hash_func in self.__hash_list]\n",
    "        for i in p:\n",
    "            self.__data[i]=1\n",
    "\n",
    "    def check(self,word):\n",
    "        p=[hash_func(word) for hash_func in self.__hash_list]\n",
    "        in_bf=0\n",
    "        for i in p:\n",
    "            if self.__data[i]==1:\n",
    "                in_bf+=1\n",
    "        if in_bf==self.hash_k:\n",
    "            return True\n",
    "        else:\n",
    "            return False\n",
    "\n",
    "    def show(self):\n",
    "        print(self.__data)\n",
    "\n",
    "    def spelling_suggest(self,word):\n",
    "        '''return word suggestions by letter substitution'''\n",
    "        words_possible=[]\n",
    "        for letter in range(len(word)):\n",
    "            front=word[:letter]\n",
    "            later=word[letter+1:]\n",
    "            words_substite=[f'{front}{i}{later}' for i in ascii_lowercase.replace(word[letter],'')]\n",
    "            for w in words_substite:\n",
    "                if self.check(w):\n",
    "                    words_possible.append(w)\n",
    "        return words_possible\n",
    "\n",
    "    def spelling_correction(self,word):\n",
    "        suggest_words=self.spelling_suggest(word)\n",
    "        if self.check(word):\n",
    "            suggest_words=[word]+suggest_words\n",
    "        return suggest_words"
   ]
  },
  {
   "cell_type": "code",
   "execution_count": 7,
   "outputs": [
    {
     "name": "stdout",
     "output_type": "stream",
     "text": [
      "True\n",
      "True\n",
      "True\n",
      "True\n",
      "False\n"
     ]
    }
   ],
   "source": [
    "size=1e7\n",
    "hash_k=3\n",
    "bf3=bloom_filter(size,hash_k)\n",
    "with open(r'words.txt') as f:\n",
    "    for line in f:\n",
    "        word=line.strip()\n",
    "        bf3.add(word)\n",
    "inword=['2','1080','&c','10-point'] #This is the top4 words in the words.txt\n",
    "for item in inword:\n",
    "    print(bf3.check(item))\n",
    "#This is my name and it is not in the words.txt\n",
    "print(bf3.check('Heyuan'))"
   ],
   "metadata": {
    "collapsed": false,
    "pycharm": {
     "name": "#%%\n"
    }
   }
  },
  {
   "cell_type": "code",
   "execution_count": 8,
   "outputs": [
    {
     "name": "stdout",
     "output_type": "stream",
     "text": [
      "Whether the filter contains floeer: False\n",
      "suggestions using the first hash function:\n",
      "['bloeer', 'qloeer', 'fyoeer', 'flofer', 'floter', 'flower', 'floeqr', 'floees']\n",
      "Whether the filter contains floeer: False\n",
      "suggestions using the first and second hash function:\n",
      "['fyoeer', 'floter', 'flower']\n",
      "Whether the filter contains floeer: False\n",
      "suggestions using the all hash function:\n",
      "['floter', 'flower']\n"
     ]
    }
   ],
   "source": [
    "for hash_k in [1,2,3]:\n",
    "    bf=bloom_filter(size,hash_k)\n",
    "    with open(r'words.txt') as f:\n",
    "        for line in f:\n",
    "            word=line.strip()\n",
    "            bf.add(word)\n",
    "    print('Whether the filter contains floeer:',bf.check('floeer'))\n",
    "    print('suggestions using the %s hash function:'%['first','first and second','all'][hash_k-1])\n",
    "    words_possible=bf.spelling_correction('floeer')\n",
    "    print(words_possible)"
   ],
   "metadata": {
    "collapsed": false,
    "pycharm": {
     "name": "#%%\n"
    }
   }
  },
  {
   "cell_type": "code",
   "execution_count": null,
   "outputs": [],
   "source": [
    "'''plot good_rate and mis_rate in one plot'''\n",
    "with open(r'typos.json') as f:\n",
    "    data=json.loads(f.read())\n",
    "\n",
    "N=np.logspace(4,9,9)\n",
    "plt.figure(figsize=(12,8))\n",
    "plt.axes(xscale='log')\n",
    "plt.xlabel('size of Bloom Filter',fontsize=20)\n",
    "plt.ylabel('percentage',fontsize=20)\n",
    "good_rate_N_k=[]\n",
    "mis_rate_N_k=[]\n",
    "for hash_k in [1,2,3]:\n",
    "    good_rate_N=[]\n",
    "    mis_rate_N=[]\n",
    "    for size in N:\n",
    "        bf=bloom_filter(size,hash_k)\n",
    "        with open(r'words.txt') as f:\n",
    "            for line in f:\n",
    "                word=line.strip()\n",
    "                bf.add(word)\n",
    "        good_suggestion=0\n",
    "        misidentified=0\n",
    "        for pair in data:\n",
    "            if bf.check(pair[0]) and pair[0]!=pair[1]:\n",
    "                misidentified+=1\n",
    "            suggest_words=bf.spelling_suggest(pair[0])\n",
    "            if pair[1] in suggest_words:\n",
    "                if len(suggest_words)<4:\n",
    "                    good_suggestion+=1\n",
    "        good_rate=good_suggestion/len(data)*2\n",
    "        mis_rate=misidentified/len(data)*2\n",
    "        good_rate_N.append(good_rate*100)\n",
    "        mis_rate_N.append(mis_rate*100)\n",
    "    plt.plot(N, good_rate_N, label='%d hashes good'%hash_k)\n",
    "    plt.plot(N, mis_rate_N,label='%d hashes misidentified'%hash_k)\n",
    "    good_rate_N_k.append(good_rate_N)\n",
    "    mis_rate_N_k.append(mis_rate_N)\n",
    "\n",
    "plt.axhline(y=90,color='gray',linestyle='dashed',label='90%')\n",
    "plt.legend()\n",
    "plt.savefig('good_mis_rate.jpg')\n",
    "plt.show()\n",
    "print(good_rate_N_k)\n",
    "print(mis_rate_N_k)\n",
    "print(N)"
   ],
   "metadata": {
    "collapsed": false,
    "pycharm": {
     "name": "#%%\n",
     "is_executing": true
    }
   }
  }
 ],
 "metadata": {
  "kernelspec": {
   "display_name": "Python 3",
   "language": "python",
   "name": "python3"
  },
  "language_info": {
   "codemirror_mode": {
    "name": "ipython",
    "version": 2
   },
   "file_extension": ".py",
   "mimetype": "text/x-python",
   "name": "python",
   "nbconvert_exporter": "python",
   "pygments_lexer": "ipython2",
   "version": "2.7.6"
  }
 },
 "nbformat": 4,
 "nbformat_minor": 0
}